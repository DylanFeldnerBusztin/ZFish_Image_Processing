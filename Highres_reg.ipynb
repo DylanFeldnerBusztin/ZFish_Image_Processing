{
 "cells": [
  {
   "cell_type": "code",
   "execution_count": 1,
   "metadata": {},
   "outputs": [],
   "source": [
    "# Registering high resolution image to the HLAVL template"
   ]
  },
  {
   "cell_type": "code",
   "execution_count": 10,
   "metadata": {},
   "outputs": [],
   "source": [
    "import ants\n",
    "import numpy as np\n",
    "import matplotlib.pyplot as plt\n",
    "%matplotlib inline"
   ]
  },
  {
   "cell_type": "code",
   "execution_count": 12,
   "metadata": {},
   "outputs": [],
   "source": [
    "# Machine specific setup of folder names\n",
    "#-------------------------------------------------------------------------------------------------\n",
    "import getpass\n",
    "if getpass.getuser() == 'roschkoenig':\n",
    "    Fimg = '/Users/roschkoenig/Dropbox/Research/1805 Seizure segment/Dylan Registration/Zebrafish'\n",
    "    fipath = Fimg + os.sep + 'Elavl3-H2BRFP.tif'\n",
    "    mopath = Fimg + os.sep + 'Substack_Red_large.tif'\n",
    "else:\n",
    "    fipath = '/home/dylan/Elavl3-H2BRFP.tif'\n",
    "    mopath = '/home/dylan/Desktop/Lab/Substack_Red_large.tif'\n"
   ]
  },
  {
   "cell_type": "code",
   "execution_count": 13,
   "metadata": {},
   "outputs": [],
   "source": [
    "# Prepare template\n",
    "fi = ants.image_read(fipath)\n",
    "mo = ants.image_read(mopath)"
   ]
  },
  {
   "cell_type": "code",
   "execution_count": 43,
   "metadata": {},
   "outputs": [],
   "source": [
    "mo.set_direction(np.array([[1., 0., 0.],[0., 1., 0.],[0., 0., 1.]]))"
   ]
  },
  {
   "cell_type": "code",
   "execution_count": 46,
   "metadata": {},
   "outputs": [],
   "source": [
    "fi.set_spacing(list([0.798, 0.798,2.0]))\n",
    "mo.set_spacing(list([.6,.6, 6]))"
   ]
  },
  {
   "cell_type": "code",
   "execution_count": null,
   "metadata": {},
   "outputs": [],
   "source": [
    "# Rigid\n",
    "mrtr_r = ants.registration(fi, mo, type_of_transforms = 'Rigid',  grad_step = 0.1)\n",
    "mr_r   = ants.apply_transforms(fi, mo, transformlist=mrtr_r['fwdtransforms'])"
   ]
  },
  {
   "cell_type": "code",
   "execution_count": null,
   "metadata": {},
   "outputs": [],
   "source": [
    "# ants.plot(mr_r,fi, overlay_cmap = 'magma', overlay_alpha = .7, axis = 2, figsize = 20, slices = [x for x in range(8)])\n",
    "ants.plot(fi, mo, overlay_cmap = 'magma', overlay_alpha = 1, axis = 0)"
   ]
  },
  {
   "cell_type": "code",
   "execution_count": 1,
   "metadata": {},
   "outputs": [
    {
     "data": {
      "text/plain": [
       "'/Users/roschkoenig/Dropbox/Research/1805 Seizure segment/Dylan Registration/ZFish_Image_Processing'"
      ]
     },
     "execution_count": 1,
     "metadata": {},
     "output_type": "execute_result"
    }
   ],
   "source": []
  },
  {
   "cell_type": "code",
   "execution_count": null,
   "metadata": {},
   "outputs": [],
   "source": []
  }
 ],
 "metadata": {
  "kernelspec": {
   "display_name": "Python 3",
   "language": "python",
   "name": "python3"
  },
  "language_info": {
   "codemirror_mode": {
    "name": "ipython",
    "version": 3
   },
   "file_extension": ".py",
   "mimetype": "text/x-python",
   "name": "python",
   "nbconvert_exporter": "python",
   "pygments_lexer": "ipython3",
   "version": "3.6.8"
  }
 },
 "nbformat": 4,
 "nbformat_minor": 2
}
